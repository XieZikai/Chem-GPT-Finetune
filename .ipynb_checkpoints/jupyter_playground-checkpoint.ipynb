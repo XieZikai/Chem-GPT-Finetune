{
 "cells": [
  {
   "cell_type": "code",
   "execution_count": 22,
   "id": "d3e83b4f",
   "metadata": {},
   "outputs": [],
   "source": [
    "import numpy as np\n",
    "import pandas as pd\n",
    "from data.data_preprocess import generate_classification_dataset, generate_core_train_test_by_equipartition, write_file, generate_classification_dataset_by_equipartition, json_to_csv\n",
    "import openai\n",
    "import json\n",
    "import os\n",
    "from openai.cli import FineTune\n",
    "import sys\n",
    "import matplotlib.pyplot as plt\n",
    "from gpt_attacker import Attacker\n",
    "import math\n",
    "import re\n",
    "import copy\n",
    "from utils import replace_smiles_with_missing\n",
    "import chemprop\n",
    "import tqdm\n",
    "from io import StringIO\n",
    "from utils import SMART_LIST\n",
    "import warnings\n",
    "\n",
    "openai.api_key = 'PLEASE USE YOUR OWN OPENAI API KEY HERE'"
   ]
  },
  {
   "cell_type": "markdown",
   "id": "096f1ebe",
   "metadata": {},
   "source": [
    "# 1. Data Preprocess"
   ]
  },
  {
   "cell_type": "markdown",
   "id": "ab09b5ba",
   "metadata": {},
   "source": [
    "## Troisi dataset (small molecules) generation"
   ]
  },
  {
   "cell_type": "code",
   "execution_count": 3,
   "id": "2bb0d009",
   "metadata": {},
   "outputs": [],
   "source": [
    "splits = [2, 4, 6, 8]\n",
    "trials = 3\n",
    "datasets = ['HOMO', 'LUMO']\n",
    "df = pd.read_csv('./data/CSD_EES_DB.csv')\n",
    "\n",
    "for dataset in datasets:\n",
    "    for split in splits:\n",
    "        for trial in range(trials):\n",
    "            df_train, df_test = generate_classification_dataset_by_equipartition(column=dataset, df=df, num_class=NUM_CLASS, split=split/10)\n",
    "            write_file(df_train, df_test, '_{}_{}_{}'.format(str(split/10), dataset, str(trial)))"
   ]
  },
  {
   "cell_type": "markdown",
   "id": "145cac5c",
   "metadata": {},
   "source": [
    "## SMPs Dataset Generation"
   ]
  },
  {
   "cell_type": "code",
   "execution_count": null,
   "id": "4a4818ee",
   "metadata": {},
   "outputs": [],
   "source": [
    "def split(x, num_class):\n",
    "    if num_class == 3:\n",
    "        if x < 1.07:\n",
    "            return 'low'\n",
    "        elif x < 12.5:\n",
    "            return 'medium'\n",
    "        else:\n",
    "            return 'high'\n",
    "    elif num_class == 2:\n",
    "        if x < 1.07:\n",
    "            return 'low'\n",
    "        else:\n",
    "            return 'high'\n",
    "        \n",
    "def cut_df(df, n):\n",
    "    df_num = len(df)\n",
    "    every_epoch_num = math.floor((df_num/n))\n",
    "    result = []\n",
    "    for index in range(n):\n",
    "        if index < n-1:\n",
    "            df_tem = df[every_epoch_num * index: every_epoch_num * (index + 1)]\n",
    "        else:\n",
    "            df_tem = df[every_epoch_num * index:]\n",
    "        result.append(df_tem)\n",
    "    return result\n",
    "\n",
    "def generate_smps_dataset(num_class=3, k_fold=5):\n",
    "    df = pd.read_csv('SMPs_572.csv', index_col=0)\n",
    "    df['completion'] = df.apply(lambda x: split(x['HER (µmol/h)'], num_class), axis=1)\n",
    "    df = df[['SMILES', 'completion']]\n",
    "    df.columns = ['prompt', 'completion']\n",
    "    df['prompt'] = df.apply(lambda row: row['prompt']+'', axis=1)\n",
    "    result = []\n",
    "    df = df.sample(frac=1.0)\n",
    "    completions = set(df['completion'])\n",
    "    sub_dfs = []\n",
    "    for i in completions:\n",
    "        sub_dfs.append(df[df['completion']==i])\n",
    "        \n",
    "    results = []\n",
    "    \n",
    "    for i in range(k_fold):\n",
    "        train = pd.DataFrame([])\n",
    "        test = pd.DataFrame([])\n",
    "        \n",
    "        for sub_df in sub_dfs:\n",
    "            \n",
    "            sub_df_cut = cut_df(sub_df, k_fold)\n",
    "            test = pd.concat([test, sub_df_cut[i]])\n",
    "            del(sub_df_cut[i])\n",
    "            train = pd.concat([train]+sub_df_cut)\n",
    "        results.append((train, test))\n",
    "    return results\n",
    "\n",
    "a = generate_smps_dataset(2, k_fold=10)"
   ]
  },
  {
   "cell_type": "markdown",
   "id": "a146c192",
   "metadata": {},
   "source": [
    "## QMOF dataset generation"
   ]
  },
  {
   "cell_type": "code",
   "execution_count": null,
   "id": "bcef10ff",
   "metadata": {},
   "outputs": [],
   "source": [
    "df = pd.read_csv('qmof.csv')\n",
    "df = df[['qmof_id', 'info.mofid.smiles_nodes', 'info.mofid.smiles_linkers', 'info.mofid.topology']]\n",
    "df = df.dropna().reset_index()\n",
    "df['prompt'] = df.apply(lambda x: 'Nodes: '+ ','.join(eval(x['info.mofid.smiles_nodes'])) + ', Linkers: ' + ','.join(eval(x['info.mofid.smiles_linkers'])), axis=1)\n",
    "df['completion'] = df['info.mofid.topology']\n",
    "df = df[['prompt', 'completion', 'qmof_id']]\n",
    "df = df.drop(df[df['completion']=='ERROR,UNKNOWN'].index)\n",
    "\n",
    "# MOF dataset Drop classes\n",
    "\n",
    "d = {}\n",
    "threshold = 10\n",
    "for index, i in enumerate(set(list(df['completion']))):\n",
    "    d[i] = index\n",
    "    di = len(df[df['completion']==i])\n",
    "    if di < threshold:\n",
    "        df = df[df['completion']!=i]\n",
    "print('Class number: ', len(set(list(df['completion']))))\n",
    "\n",
    "label_counts = df['completion'].value_counts()\n",
    "valid_labels = label_counts[label_counts > 5].index\n",
    "df = df[df['completion'].isin(valid_labels)]\n",
    "print(df['completion'].value_counts())\n",
    "\n",
    "mapping = {}\n",
    "for index, i in enumerate(set(list(df['completion']))):\n",
    "    mapping[i] = index\n",
    "    \n",
    "df.to_csv('qmof_info.csv')"
   ]
  },
  {
   "cell_type": "code",
   "execution_count": null,
   "id": "5fe49435",
   "metadata": {},
   "outputs": [],
   "source": [
    "# Generate train and test set\n",
    "\n",
    "train_index = np.array([])\n",
    "\n",
    "for topo in set(list(df['completion'])):\n",
    "    sub_df = df[df['completion']==topo]\n",
    "    train_num = int(len(sub_df) * SPLIT)\n",
    "    train_index = np.append(train_index, np.random.choice(sub_df.index, size=train_num, replace=False))\n",
    "    \n",
    "df['completion'] = df.apply(lambda x: str(mapping[x['completion']]), axis=1)\n",
    "df = df[['prompt', 'completion']]\n",
    "df_train = df.loc[train_index]\n",
    "df_test = df.append(df_train).drop_duplicates(subset='prompt', keep=False)\n",
    "\n",
    "df_train.to_csv('mof_train.csv')\n",
    "df_test.to_csv('mof_test.csv')\n",
    "with open('mof_class_token_map.json', 'w') as fp:\n",
    "    json.dump(mapping, fp)\n",
    "    \n",
    "write_file(df_train, df_test, 'qmof_topology')"
   ]
  },
  {
   "cell_type": "markdown",
   "id": "a4ce3685",
   "metadata": {},
   "source": [
    "# 2. Experiments"
   ]
  },
  {
   "cell_type": "markdown",
   "id": "7a2d8f71",
   "metadata": {},
   "source": [
    "## Troisi dataset"
   ]
  },
  {
   "cell_type": "code",
   "execution_count": 10,
   "id": "78fedf5e",
   "metadata": {},
   "outputs": [],
   "source": [
    "# This script shows the fine-tuning process of one folder (train-validation dataset pair).\n",
    "# Please use the same method to fine-tune GPT-3 on other datasets. \n",
    "\n",
    "BASE_DIR = './data/out'\n",
    "folder_name = '20231012_145051__0.2_HOMO_0'\n",
    "folder_dir = os.path.join(BASE_DIR, folder_name)\n",
    "\n",
    "# generate data for chemprop\n",
    "json_to_csv(folder_dir)"
   ]
  },
  {
   "cell_type": "code",
   "execution_count": 4,
   "id": "869be83b",
   "metadata": {},
   "outputs": [],
   "source": [
    "# upload data\n",
    "\n",
    "upload_train = openai.File.create(\n",
    "    file=open(os.path.join(folder_dir, 'train.jsonl'), 'rb'),\n",
    "    purpose='fine-tune'\n",
    ")\n",
    "train_file_id = upload_train.id\n",
    "\n",
    "upload_valid = openai.File.create(\n",
    "    file=open(os.path.join(folder_dir, 'valid.jsonl'), 'rb'),\n",
    "    purpose='fine-tune'\n",
    ")\n",
    "valid_file_id = upload_valid.id\n",
    "\n",
    "# submit fine-tuning job\n",
    "\n",
    "fine_tune_response = openai.FineTune.create(\n",
    "    training_file=train_file_id,\n",
    "    validation_file=valid_file_id\n",
    ")\n",
    "\n",
    "print('Fine-tuning job submitted, please hold this job id: {}'.format(fine_tune_response.id))\n",
    "fine_tune_id = fine_tune_response.id"
   ]
  },
  {
   "cell_type": "code",
   "execution_count": 6,
   "id": "06794141",
   "metadata": {},
   "outputs": [],
   "source": [
    "# use fine_tune_id if you wish to evaluate a fine-tuned model manually\n",
    "\n",
    "fine_tune_id = 'ft-swGhuUiQ7LT9I5FxvHvnThGX'"
   ]
  },
  {
   "cell_type": "code",
   "execution_count": 14,
   "id": "4388007d",
   "metadata": {},
   "outputs": [
    {
     "name": "stdout",
     "output_type": "stream",
     "text": [
      "Fine-tuning completed, please hold this model id: ada:ft-birmingham-digital-chemistry-2023-07-08-20-05-51\n"
     ]
    }
   ],
   "source": [
    "# retrieve_response = openai.FineTune.retrieve(fine_tune_response.id)\n",
    "retrieve_response = openai.FineTune.retrieve(fine_tune_id)\n",
    "fine_tuned_model_id = retrieve_response.fine_tuned_model\n",
    "if fine_tuned_model_id is None:\n",
    "    print('Model is still fine-tuning, please wait.')\n",
    "else:\n",
    "    print('Fine-tuning completed, please hold this model id: {}'.format(fine_tuned_model_id))"
   ]
  },
  {
   "cell_type": "markdown",
   "id": "b5ee412a",
   "metadata": {},
   "source": [
    "### Test set confusion matrix"
   ]
  },
  {
   "cell_type": "code",
   "execution_count": 24,
   "id": "9fcb0bce",
   "metadata": {},
   "outputs": [
    {
     "name": "stdout",
     "output_type": "stream",
     "text": [
      "Fine-tuning completed, please hold this model id: ada:ft-birmingham-digital-chemistry-2023-07-03-06-47-10\n"
     ]
    }
   ],
   "source": [
    "# read test data\n",
    "# test = pd.read_json(os.path.join(folder_dir, 'valid.jsonl'), lines=True)\n",
    "test = pd.read_json(r'C:\\Users\\darkn\\PycharmProjects\\ChemGPT\\out\\new_data_gpt\\small_molecule\\20230701_152137__0.8_HOMO_2\\valid.jsonl', lines=True)\n",
    "\n",
    "fine_tune_id = 'ft-PGPYe12c0ccYl1v8gVtBbUCg'\n",
    "\n",
    "# retrieve_response = openai.FineTune.retrieve(fine_tune_response.id)\n",
    "retrieve_response = openai.FineTune.retrieve(fine_tune_id)\n",
    "fine_tuned_model_id = retrieve_response.fine_tuned_model\n",
    "if fine_tuned_model_id is None:\n",
    "    print('Model is still fine-tuning, please wait.')\n",
    "else:\n",
    "    print('Fine-tuning completed, please hold this model id: {}'.format(fine_tuned_model_id))"
   ]
  },
  {
   "cell_type": "code",
   "execution_count": 25,
   "id": "eb338d7f",
   "metadata": {},
   "outputs": [],
   "source": [
    "y_true = []\n",
    "y_pred = []\n",
    "\n",
    "for i in range(len(test)):\n",
    "    # print(test.iloc[i]['prompt'])\n",
    "    prompt = test.iloc[i]['prompt']\n",
    "    res = openai.Completion.create(model=fine_tuned_model_id, prompt=prompt, max_tokens=1, temperature=0)\n",
    "    # print(res['choices'][0]['text'])\n",
    "    y_true.append(str(test.iloc[i]['completion']))\n",
    "    y_pred.append(str(res['choices'][0]['text']))\n",
    "    # if i == 20:\n",
    "    #     break"
   ]
  },
  {
   "cell_type": "code",
   "execution_count": 26,
   "id": "e9c13bec",
   "metadata": {},
   "outputs": [],
   "source": [
    "from sklearn.metrics import confusion_matrix\n",
    "import matplotlib.pyplot as plt\n",
    "import seaborn as sns\n",
    "\n",
    "cm = confusion_matrix(y_true, y_pred)"
   ]
  },
  {
   "cell_type": "code",
   "execution_count": 27,
   "id": "9ce3225b",
   "metadata": {},
   "outputs": [
    {
     "data": {
      "image/png": "[encoded data removed]",
      "text/plain": [
       "<Figure size 576x432 with 1 Axes>"
      ]
     },
     "metadata": {
      "needs_background": "light"
     },
     "output_type": "display_data"
    }
   ],
   "source": [
    "def plot_confusion_matrix(confusion_matrix, labels):\n",
    "    plt.figure(figsize=(8, 6))\n",
    "    sns.set(font_scale=1.2)\n",
    "    sns.heatmap(confusion_matrix, annot=True, fmt='d', cmap='Blues', cbar=False, xticklabels=labels, yticklabels=labels)\n",
    "    plt.xlabel('Predicted')\n",
    "    plt.ylabel('True')\n",
    "    plt.title('Confusion Matrix')\n",
    "    plt.show()\n",
    "\n",
    "# Define your class labels if you have a classification problem\n",
    "class_labels = ['Class 0', 'Class 1', 'Class 2']  # Modify this as per your specific problem\n",
    "\n",
    "plot_confusion_matrix(cm, class_labels)"
   ]
  },
  {
   "cell_type": "markdown",
   "id": "b1ea0e03",
   "metadata": {},
   "source": [
    "## Chemprop comparison"
   ]
  },
  {
   "cell_type": "code",
   "execution_count": 21,
   "id": "849b89f3",
   "metadata": {},
   "outputs": [],
   "source": [
    "# This script shows the Chemprop training process of one folder (train-validation dataset pair).\n",
    "# Please use the same method to train Chemprop models on other datasets. \n",
    "\n",
    "arguments = [\n",
    "    '--data_path', os.path.join(folder_dir, 'train.csv'),\n",
    "    '--separate_test_path', os.path.join(folder_dir, 'train.csv'),\n",
    "    '--separate_val_path', os.path.join(folder_dir, 'valid.csv'),\n",
    "    '--smiles_columns', 'smiles',\n",
    "    '--target_columns', 'target',\n",
    "    '--dataset_type', 'multiclass',\n",
    "    '--multiclass_num_classes', '3',\n",
    "    '--save_dir', os.path.join(folder_dir, 'model_checkpoint')\n",
    "]\n",
    "\n",
    "args = chemprop.args.TrainArgs().parse_args(arguments)\n",
    "mean_score, std_score = chemprop.train.cross_validate(args=args, train_func=chemprop.train.run_training)\n",
    "print(mean_score, std_score)"
   ]
  },
  {
   "cell_type": "markdown",
   "id": "13bac3a1",
   "metadata": {},
   "source": [
    "## Troisi dataset GPT-3.5 embeddings & UMAP 2-D visualization"
   ]
  },
  {
   "cell_type": "code",
   "execution_count": 28,
   "id": "d75cdeff",
   "metadata": {},
   "outputs": [],
   "source": [
    "# get GPT-3.5 embeddings\n",
    "\n",
    "def get_embedding(text, model=\"text-embedding-ada-002\"):\n",
    "    text = text.replace(\"\\n\", \" \")\n",
    "    return openai.Embedding.create(input = [text], model=model)['data'][0]['embedding']\n",
    "\n",
    "\n",
    "embeddings = []\n",
    "\n",
    "for i in range(len(test)):\n",
    "    # print(test.iloc[i]['prompt'])\n",
    "    prompt = test.iloc[i]['prompt']\n",
    "    embedding = get_embedding(prompt)\n",
    "    embeddings.append(embedding)\n",
    "    if i == 20:\n",
    "        break"
   ]
  },
  {
   "cell_type": "code",
   "execution_count": 30,
   "id": "9ffb44f0",
   "metadata": {},
   "outputs": [
    {
     "name": "stderr",
     "output_type": "stream",
     "text": [
      "C:\\Users\\darkn\\anaconda3\\lib\\site-packages\\pkg_resources\\__init__.py:116: PkgResourcesDeprecationWarning: 4.0.0-unsupported is an invalid version and will not be supported in a future release\n",
      "  warnings.warn(\n"
     ]
    }
   ],
   "source": [
    "import umap\n",
    "import matplotlib.pyplot as plt\n",
    "\n",
    "X = np.array(embeddings)\n",
    "reducer = umap.UMAP(n_neighbors=15, n_components=2)\n",
    "reduced_embedding = reducer.fit_transform(X)"
   ]
  },
  {
   "cell_type": "code",
   "execution_count": 33,
   "id": "4a49c3cf",
   "metadata": {},
   "outputs": [
    {
     "data": {
      "image/png": "[encoded data removed]",
      "text/plain": [
       "<Figure size 432x288 with 1 Axes>"
      ]
     },
     "metadata": {},
     "output_type": "display_data"
    }
   ],
   "source": [
    "import matplotlib.pyplot as plt\n",
    "\n",
    "plt.scatter(reduced_embedding[:, 0], reduced_embedding[:, 1])\n",
    "plt.title(\"UMAP Projection\")\n",
    "plt.show()"
   ]
  },
  {
   "cell_type": "markdown",
   "id": "e06e7646",
   "metadata": {},
   "source": [
    "# 3. Experiment Results Collection & Visualization"
   ]
  },
  {
   "cell_type": "markdown",
   "id": "1afa27be",
   "metadata": {},
   "source": [
    "## Chemprop result collection"
   ]
  },
  {
   "cell_type": "code",
   "execution_count": null,
   "id": "75bc6dba",
   "metadata": {},
   "outputs": [],
   "source": [
    "PATH = r'C:\\Users\\darkn\\PycharmProjects\\ChemGPT\\out\\new_data_gpt\\small_molecule'\n",
    "folders = os.listdir(PATH)\n",
    "\n",
    "results_chemprop = {}\n",
    "\n",
    "# for folder in os.listdir(PATH):\n",
    "for folder in folders:\n",
    "    if not os.path.exists(os.path.join(PATH, folder + '/model_checkpoint/fold_0')):\n",
    "        continue\n",
    "    \n",
    "    arguments = [\n",
    "        '--test_path', os.path.join(PATH, folder + '/valid.csv'),  # \n",
    "        '--checkpoint_dir', os.path.join(PATH, folder + '/model_checkpoint/fold_0'),\n",
    "        '--preds_path',  os.path.join(PATH, folder + '/pred.csv')\n",
    "    ]\n",
    "    args = chemprop.args.PredictArgs().parse_args(arguments)\n",
    "    model_objects = chemprop.train.load_model(args=args)\n",
    "    \n",
    "    \n",
    "    preds = chemprop.train.make_predictions(args=args, model_objects=model_objects)\n",
    "    \n",
    "    df = pd.read_csv(os.path.join(PATH, folder + '/valid.csv'))\n",
    "    y_true = df['target'].to_list()\n",
    "    y_pred = []\n",
    "    correct = 0\n",
    "    total = 0\n",
    "    for i, pred in enumerate(preds):\n",
    "        total += 1\n",
    "        p = np.argmax(pred)\n",
    "        y_pred.append(p)\n",
    "        if p == y_true[i]:\n",
    "            correct += 1\n",
    "    print (folder, ': ', correct/total)\n",
    "    results_chemprop[folder] = correct/total"
   ]
  },
  {
   "cell_type": "code",
   "execution_count": null,
   "id": "bd449579",
   "metadata": {},
   "outputs": [],
   "source": [
    "homo_result_chemprop = {}\n",
    "lumo_result_chemprop = {}\n",
    "\n",
    "splits = ['0.2', '0.4', '0.6', '0.8']\n",
    "\n",
    "for split in splits:\n",
    "    keys = [key for key in results_chemprop.keys() if split in key and 'HOMO' in key]\n",
    "    total = 0\n",
    "    for key in keys:\n",
    "        total += results_chemprop[key]\n",
    "    total = total / 3\n",
    "    homo_result_chemprop[split] = total\n",
    "    \n",
    "    keys = [key for key in results_chemprop.keys() if split in key and 'LUMO' in key]\n",
    "    total = 0\n",
    "    for key in keys:\n",
    "        total += results_chemprop[key]\n",
    "    total = total / 3\n",
    "    lumo_result_chemprop[split] = total\n",
    "\n",
    "print(homo_result_chemprop, lumo_result_chemprop)"
   ]
  },
  {
   "cell_type": "code",
   "execution_count": null,
   "id": "bd3777bb",
   "metadata": {},
   "outputs": [],
   "source": [
    "PATH = r'C:\\Users\\darkn\\PycharmProjects\\ChemGPT\\out\\new_data_gpt\\small_molecule_small_dataset'\n",
    "folders = os.listdir(PATH)\n",
    "\n",
    "results_chemprop = {}\n",
    "\n",
    "# for folder in os.listdir(PATH):\n",
    "for folder in folders:\n",
    "    if not os.path.exists(os.path.join(PATH, folder + '/model_checkpoint/fold_0')):\n",
    "        continue\n",
    "    \n",
    "    arguments = [\n",
    "        '--test_path', os.path.join(PATH, folder + '/valid.csv'),  # \n",
    "        '--checkpoint_dir', os.path.join(PATH, folder + '/model_checkpoint/fold_0'),\n",
    "        '--preds_path',  os.path.join(PATH, folder + '/pred.csv')\n",
    "    ]\n",
    "    args = chemprop.args.PredictArgs().parse_args(arguments)\n",
    "    model_objects = chemprop.train.load_model(args=args)\n",
    "    \n",
    "    \n",
    "    preds = chemprop.train.make_predictions(args=args, model_objects=model_objects)\n",
    "    \n",
    "    df = pd.read_csv(os.path.join(PATH, folder + '/valid.csv'))\n",
    "    y_true = df['target'].to_list()\n",
    "    y_pred = []\n",
    "    correct = 0\n",
    "    total = 0\n",
    "    for i, pred in enumerate(preds):\n",
    "        total += 1\n",
    "        p = np.argmax(pred)\n",
    "        y_pred.append(p)\n",
    "        if p == y_true[i]:\n",
    "            correct += 1\n",
    "    print (folder, ': ', correct/total)\n",
    "    results_chemprop[folder] = correct/total"
   ]
  },
  {
   "cell_type": "code",
   "execution_count": null,
   "id": "d14bd36a",
   "metadata": {},
   "outputs": [],
   "source": [
    "homo_result_chemprop = {}\n",
    "lumo_result_chemprop = {}\n",
    "\n",
    "splits = ['0.01', '0.02', '0.1']\n",
    "\n",
    "for split in splits:\n",
    "    keys = [key for key in results_chemprop.keys() if split in key and 'HOMO' in key]\n",
    "    total = 0\n",
    "    for key in keys:\n",
    "        total += results_chemprop[key]\n",
    "    total = total / 3\n",
    "    homo_result_chemprop[split] = total\n",
    "    \n",
    "    keys = [key for key in results_chemprop.keys() if split in key and 'LUMO' in key]\n",
    "    total = 0\n",
    "    for key in keys:\n",
    "        total += results_chemprop[key]\n",
    "    total = total / 3\n",
    "    lumo_result_chemprop[split] = total\n",
    "\n",
    "print(homo_result_chemprop, lumo_result_chemprop)"
   ]
  },
  {
   "cell_type": "code",
   "execution_count": null,
   "id": "a4fd9afa",
   "metadata": {},
   "outputs": [],
   "source": [
    "PATH = r'C:\\Users\\darkn\\PycharmProjects\\ChemGPT\\out\\new_data_gpt'\n",
    "folders = os.listdir(PATH)\n",
    "\n",
    "results_chemprop = {}\n",
    "\n",
    "# for folder in os.listdir(PATH):\n",
    "for folder in folders:\n",
    "    if not os.path.exists(os.path.join(PATH, folder + '/model_checkpoint/fold_0')):\n",
    "        continue\n",
    "    \n",
    "    arguments = [\n",
    "        '--test_path', os.path.join(PATH, folder + '/valid.csv'),  # \n",
    "        '--checkpoint_dir', os.path.join(PATH, folder + '/model_checkpoint/fold_0'),\n",
    "        '--preds_path',  os.path.join(PATH, folder + '/pred.csv')\n",
    "    ]\n",
    "    args = chemprop.args.PredictArgs().parse_args(arguments)\n",
    "    model_objects = chemprop.train.load_model(args=args)\n",
    "    \n",
    "    \n",
    "    preds = chemprop.train.make_predictions(args=args, model_objects=model_objects)\n",
    "    \n",
    "    df = pd.read_csv(os.path.join(PATH, folder + '/valid.csv'))\n",
    "    y_true = df['target'].to_list()\n",
    "    y_pred = []\n",
    "    correct = 0\n",
    "    total = 0\n",
    "    for i, pred in enumerate(preds):\n",
    "        total += 1\n",
    "        p = np.argmax(pred)\n",
    "        y_pred.append(p)\n",
    "        if p == y_true[i]:\n",
    "            correct += 1\n",
    "    print (folder, ': ', correct/total)\n",
    "    results_chemprop[folder] = correct/total"
   ]
  },
  {
   "cell_type": "markdown",
   "id": "e7e7b3c0",
   "metadata": {},
   "source": [
    "# 4. Ablation Studies"
   ]
  },
  {
   "cell_type": "markdown",
   "id": "5dda4073",
   "metadata": {},
   "source": [
    "## Ablation: Combine core data"
   ]
  },
  {
   "cell_type": "code",
   "execution_count": null,
   "id": "06641bd1",
   "metadata": {},
   "outputs": [],
   "source": [
    "CORE_LISTS = [\n",
    "    ['core_16392',\n",
    "     'core_16404',\n",
    "     'core_16583',\n",
    "     'core_14647',\n",
    "     'core_14707'\n",
    "    ], \n",
    "    ['core_7123',\n",
    "     'core_7188',\n",
    "     'core_8000'\n",
    "    ],\n",
    "    ['core_11149',\n",
    "     'core_11127',\n",
    "     'core_11138'\n",
    "    ],\n",
    "    ['core_16392',\n",
    "     'core_16404',\n",
    "     'core_16583',\n",
    "     'core_14647',\n",
    "     'core_14707',\n",
    "     'core_7123',\n",
    "     'core_7188',\n",
    "     'core_8000'\n",
    "    ],\n",
    "    ['core_16392',\n",
    "     'core_16404',\n",
    "     'core_16583',\n",
    "     'core_14647',\n",
    "     'core_14707',\n",
    "     'core_7123',\n",
    "     'core_7188',\n",
    "     'core_8000',\n",
    "     'core_11149',\n",
    "     'core_11127',\n",
    "     'core_11138'\n",
    "    ]\n",
    "]\n",
    "\n",
    "NAME_POSTFIXS = [\n",
    "    '12345',\n",
    "    '678',\n",
    "    '91011',\n",
    "    '12345678',\n",
    "    'all'\n",
    "]\n",
    "\n",
    "BASE_DIR = r'C:\\Users\\darkn\\PycharmProjects\\ChemGPT\\out\\new_data_gpt\\ablation'\n",
    "\n",
    "TYPES = ['LUMO', 'HOMO']\n",
    "\n",
    "def generate_core_combination_data(CORE_LIST, NAME):\n",
    "    for TYPE in TYPES:\n",
    "        test_list = []\n",
    "        for folder in os.listdir(BASE_DIR):\n",
    "            for df_name in CORE_LIST:\n",
    "                if TYPE in folder and df_name in folder:\n",
    "                    df = pd.read_csv(os.path.join(BASE_DIR, folder + '/valid.csv'))\n",
    "                    test_list.append(df)\n",
    "                    path = os.path.join(BASE_DIR, folder)\n",
    "        test_df = pd.concat(test_list)\n",
    "\n",
    "        train_df = pd.read_csv(os.path.join(path, 'train.csv'))\n",
    "        duplicate = train_df.merge(test_df, on=['smiles', 'target'])\n",
    "        train_df = train_df.append(duplicate)\n",
    "        train_df = train_df.drop_duplicates(subset='smiles', keep=False)\n",
    "        train_df.columns = ['prompt', 'completion']\n",
    "        test_df.columns = ['prompt', 'completion']\n",
    "        train_df['completion'] = train_df['completion'].astype(str)\n",
    "        test_df['completion'] = test_df['completion'].astype(str)\n",
    "        train_df.to_csv('train_core_{}_{}.csv'.format(TYPE, NAME), index=False)\n",
    "        test_df.to_csv('test_core_{}_{}.csv'.format(TYPE, NAME), index=False)\n",
    "        write_file(train_df, test_df, '{}_{}'.format(TYPE, NAME))\n",
    "        \n",
    "for CORE_LIST, NAME in zip(CORE_LISTS, NAME_POSTFIXS):\n",
    "    generate_core_combination_data(CORE_LIST, NAME)"
   ]
  },
  {
   "cell_type": "markdown",
   "id": "84f61ca6-a5e7-4765-b469-0b1b6b632c13",
   "metadata": {},
   "source": [
    "## SmilesEnumerator Replacement"
   ]
  },
  {
   "cell_type": "code",
   "execution_count": null,
   "id": "a5a5b2f1-c2de-4259-9665-36fb14a99635",
   "metadata": {},
   "outputs": [],
   "source": [
    "# Test if GPT-3.5 model is consistent to equivalent \n",
    "\n",
    "from SmilesEnumerator import SmilesEnumerator\n",
    "sme = SmilesEnumerator()\n",
    "\n",
    "MODEL = ''\n",
    "base_dir = ''\n",
    "\n",
    "with open(os.path.join(base_dir, 'valid.jsonl'), 'r') as json_file:\n",
    "    json_list = list(json_file)\n",
    "\n",
    "randomized_smiles = []\n",
    "real_smiles = []\n",
    "real_class = []\n",
    "pred_class = []\n",
    "randomized_class = []\n",
    "\n",
    "for json_str in json_list:\n",
    "    pair = json.loads(json_str)\n",
    "    print(pair)\n",
    "    smile = pair['prompt']\n",
    "    \n",
    "    try:\n",
    "        result = openai.Completion.create(model=MODEL, prompt=pair['prompt'], max_tokens=1, temperature=0)\n",
    "        random_smile = sme.randomize_smiles(smile)\n",
    "        result_randomized = openai.Completion.create(model=MODEL, prompt=random_smile, max_tokens=1, temperature=0)\n",
    "\n",
    "        randomized_smiles.append(random_smile)\n",
    "        real_smiles.append(smile)\n",
    "        real_class.append(pair['completion'])\n",
    "        pred_class.append(result['choices'][0]['text'])\n",
    "        randomized_class.append(result_randomized['choices'][0]['text'])\n",
    "    except:\n",
    "        pass"
   ]
  },
  {
   "cell_type": "markdown",
   "id": "a5e0e8d2-3aca-4f19-94d4-623dae209bc1",
   "metadata": {},
   "source": [
    "## Atom Replacement Test"
   ]
  },
  {
   "cell_type": "raw",
   "id": "5fc055e5-6ee9-472d-b246-26eea3f155b5",
   "metadata": {},
   "source": [
    "Please check script gpt_attacker.replacement_test"
   ]
  },
  {
   "cell_type": "markdown",
   "id": "a386b1df-77f4-4fe4-86ef-8a8fe6a4eef3",
   "metadata": {},
   "source": [
    "## Functional Group Ablation Test"
   ]
  },
  {
   "cell_type": "raw",
   "id": "4418d543-a2e6-41dc-9b0b-d8b2d9e37fc9",
   "metadata": {},
   "source": [
    "Please apply normal experiment workflow on ablation datasets in folder './data/out/ablation'"
   ]
  }
 ],
 "metadata": {
  "kernelspec": {
   "display_name": "Python 3",
   "language": "python",
   "name": "python3"
  },
  "language_info": {
   "codemirror_mode": {
    "name": "ipython",
    "version": 3
   },
   "file_extension": ".py",
   "mimetype": "text/x-python",
   "name": "python",
   "nbconvert_exporter": "python",
   "pygments_lexer": "ipython3",
   "version": "3.8.8"
  }
 },
 "nbformat": 4,
 "nbformat_minor": 5
}
